{
 "cells": [
  {
   "cell_type": "code",
   "execution_count": 1,
   "id": "9694c07b",
   "metadata": {
    "_cell_guid": "b1076dfc-b9ad-4769-8c92-a6c4dae69d19",
    "_uuid": "8f2839f25d086af736a60e9eeb907d3b93b6e0e5",
    "execution": {
     "iopub.execute_input": "2021-10-11T18:37:21.662585Z",
     "iopub.status.busy": "2021-10-11T18:37:21.661401Z",
     "iopub.status.idle": "2021-10-11T18:37:22.938586Z",
     "shell.execute_reply": "2021-10-11T18:37:22.937956Z",
     "shell.execute_reply.started": "2021-10-11T18:02:41.336374Z"
    },
    "papermill": {
     "duration": 1.300858,
     "end_time": "2021-10-11T18:37:22.938748",
     "exception": false,
     "start_time": "2021-10-11T18:37:21.637890",
     "status": "completed"
    },
    "tags": []
   },
   "outputs": [],
   "source": [
    "'''import my libraries '''\n",
    "import numpy as np\n",
    "import pandas as pd     \n",
    "import seaborn as sns\n",
    "from sklearn.preprocessing import LabelEncoder\n",
    "from sklearn.metrics import confusion_matrix\n",
    "from matplotlib import pyplot as plt\n",
    "from sklearn.metrics import accuracy_score\n",
    "from sklearn.model_selection import train_test_split\n",
    "from sklearn.discriminant_analysis import QuadraticDiscriminantAnalysis\n",
    "from sklearn.linear_model import LogisticRegression\n",
    "from sklearn.svm import SVC\n",
    "from sklearn.ensemble import RandomForestClassifier"
   ]
  },
  {
   "cell_type": "code",
   "execution_count": 2,
   "id": "23d93f26",
   "metadata": {
    "execution": {
     "iopub.execute_input": "2021-10-11T18:37:22.983057Z",
     "iopub.status.busy": "2021-10-11T18:37:22.982354Z",
     "iopub.status.idle": "2021-10-11T18:37:23.042109Z",
     "shell.execute_reply": "2021-10-11T18:37:23.042599Z",
     "shell.execute_reply.started": "2021-10-11T18:09:04.049268Z"
    },
    "papermill": {
     "duration": 0.084701,
     "end_time": "2021-10-11T18:37:23.042762",
     "exception": false,
     "start_time": "2021-10-11T18:37:22.958061",
     "status": "completed"
    },
    "tags": []
   },
   "outputs": [
    {
     "data": {
      "text/html": [
       "<div>\n",
       "<style scoped>\n",
       "    .dataframe tbody tr th:only-of-type {\n",
       "        vertical-align: middle;\n",
       "    }\n",
       "\n",
       "    .dataframe tbody tr th {\n",
       "        vertical-align: top;\n",
       "    }\n",
       "\n",
       "    .dataframe thead th {\n",
       "        text-align: right;\n",
       "    }\n",
       "</style>\n",
       "<table border=\"1\" class=\"dataframe\">\n",
       "  <thead>\n",
       "    <tr style=\"text-align: right;\">\n",
       "      <th></th>\n",
       "      <th>0</th>\n",
       "      <th>1</th>\n",
       "      <th>2</th>\n",
       "      <th>3</th>\n",
       "      <th>4</th>\n",
       "      <th>5</th>\n",
       "      <th>6</th>\n",
       "      <th>7</th>\n",
       "      <th>8</th>\n",
       "      <th>9</th>\n",
       "      <th>...</th>\n",
       "      <th>51</th>\n",
       "      <th>52</th>\n",
       "      <th>53</th>\n",
       "      <th>54</th>\n",
       "      <th>55</th>\n",
       "      <th>56</th>\n",
       "      <th>57</th>\n",
       "      <th>58</th>\n",
       "      <th>59</th>\n",
       "      <th>60</th>\n",
       "    </tr>\n",
       "  </thead>\n",
       "  <tbody>\n",
       "    <tr>\n",
       "      <th>0</th>\n",
       "      <td>0.0200</td>\n",
       "      <td>0.0371</td>\n",
       "      <td>0.0428</td>\n",
       "      <td>0.0207</td>\n",
       "      <td>0.0954</td>\n",
       "      <td>0.0986</td>\n",
       "      <td>0.1539</td>\n",
       "      <td>0.1601</td>\n",
       "      <td>0.3109</td>\n",
       "      <td>0.2111</td>\n",
       "      <td>...</td>\n",
       "      <td>0.0027</td>\n",
       "      <td>0.0065</td>\n",
       "      <td>0.0159</td>\n",
       "      <td>0.0072</td>\n",
       "      <td>0.0167</td>\n",
       "      <td>0.0180</td>\n",
       "      <td>0.0084</td>\n",
       "      <td>0.0090</td>\n",
       "      <td>0.0032</td>\n",
       "      <td>R</td>\n",
       "    </tr>\n",
       "    <tr>\n",
       "      <th>1</th>\n",
       "      <td>0.0453</td>\n",
       "      <td>0.0523</td>\n",
       "      <td>0.0843</td>\n",
       "      <td>0.0689</td>\n",
       "      <td>0.1183</td>\n",
       "      <td>0.2583</td>\n",
       "      <td>0.2156</td>\n",
       "      <td>0.3481</td>\n",
       "      <td>0.3337</td>\n",
       "      <td>0.2872</td>\n",
       "      <td>...</td>\n",
       "      <td>0.0084</td>\n",
       "      <td>0.0089</td>\n",
       "      <td>0.0048</td>\n",
       "      <td>0.0094</td>\n",
       "      <td>0.0191</td>\n",
       "      <td>0.0140</td>\n",
       "      <td>0.0049</td>\n",
       "      <td>0.0052</td>\n",
       "      <td>0.0044</td>\n",
       "      <td>R</td>\n",
       "    </tr>\n",
       "    <tr>\n",
       "      <th>2</th>\n",
       "      <td>0.0262</td>\n",
       "      <td>0.0582</td>\n",
       "      <td>0.1099</td>\n",
       "      <td>0.1083</td>\n",
       "      <td>0.0974</td>\n",
       "      <td>0.2280</td>\n",
       "      <td>0.2431</td>\n",
       "      <td>0.3771</td>\n",
       "      <td>0.5598</td>\n",
       "      <td>0.6194</td>\n",
       "      <td>...</td>\n",
       "      <td>0.0232</td>\n",
       "      <td>0.0166</td>\n",
       "      <td>0.0095</td>\n",
       "      <td>0.0180</td>\n",
       "      <td>0.0244</td>\n",
       "      <td>0.0316</td>\n",
       "      <td>0.0164</td>\n",
       "      <td>0.0095</td>\n",
       "      <td>0.0078</td>\n",
       "      <td>R</td>\n",
       "    </tr>\n",
       "    <tr>\n",
       "      <th>3</th>\n",
       "      <td>0.0100</td>\n",
       "      <td>0.0171</td>\n",
       "      <td>0.0623</td>\n",
       "      <td>0.0205</td>\n",
       "      <td>0.0205</td>\n",
       "      <td>0.0368</td>\n",
       "      <td>0.1098</td>\n",
       "      <td>0.1276</td>\n",
       "      <td>0.0598</td>\n",
       "      <td>0.1264</td>\n",
       "      <td>...</td>\n",
       "      <td>0.0121</td>\n",
       "      <td>0.0036</td>\n",
       "      <td>0.0150</td>\n",
       "      <td>0.0085</td>\n",
       "      <td>0.0073</td>\n",
       "      <td>0.0050</td>\n",
       "      <td>0.0044</td>\n",
       "      <td>0.0040</td>\n",
       "      <td>0.0117</td>\n",
       "      <td>R</td>\n",
       "    </tr>\n",
       "    <tr>\n",
       "      <th>4</th>\n",
       "      <td>0.0762</td>\n",
       "      <td>0.0666</td>\n",
       "      <td>0.0481</td>\n",
       "      <td>0.0394</td>\n",
       "      <td>0.0590</td>\n",
       "      <td>0.0649</td>\n",
       "      <td>0.1209</td>\n",
       "      <td>0.2467</td>\n",
       "      <td>0.3564</td>\n",
       "      <td>0.4459</td>\n",
       "      <td>...</td>\n",
       "      <td>0.0031</td>\n",
       "      <td>0.0054</td>\n",
       "      <td>0.0105</td>\n",
       "      <td>0.0110</td>\n",
       "      <td>0.0015</td>\n",
       "      <td>0.0072</td>\n",
       "      <td>0.0048</td>\n",
       "      <td>0.0107</td>\n",
       "      <td>0.0094</td>\n",
       "      <td>R</td>\n",
       "    </tr>\n",
       "  </tbody>\n",
       "</table>\n",
       "<p>5 rows × 61 columns</p>\n",
       "</div>"
      ],
      "text/plain": [
       "       0       1       2       3       4       5       6       7       8   \\\n",
       "0  0.0200  0.0371  0.0428  0.0207  0.0954  0.0986  0.1539  0.1601  0.3109   \n",
       "1  0.0453  0.0523  0.0843  0.0689  0.1183  0.2583  0.2156  0.3481  0.3337   \n",
       "2  0.0262  0.0582  0.1099  0.1083  0.0974  0.2280  0.2431  0.3771  0.5598   \n",
       "3  0.0100  0.0171  0.0623  0.0205  0.0205  0.0368  0.1098  0.1276  0.0598   \n",
       "4  0.0762  0.0666  0.0481  0.0394  0.0590  0.0649  0.1209  0.2467  0.3564   \n",
       "\n",
       "       9   ...      51      52      53      54      55      56      57  \\\n",
       "0  0.2111  ...  0.0027  0.0065  0.0159  0.0072  0.0167  0.0180  0.0084   \n",
       "1  0.2872  ...  0.0084  0.0089  0.0048  0.0094  0.0191  0.0140  0.0049   \n",
       "2  0.6194  ...  0.0232  0.0166  0.0095  0.0180  0.0244  0.0316  0.0164   \n",
       "3  0.1264  ...  0.0121  0.0036  0.0150  0.0085  0.0073  0.0050  0.0044   \n",
       "4  0.4459  ...  0.0031  0.0054  0.0105  0.0110  0.0015  0.0072  0.0048   \n",
       "\n",
       "       58      59  60  \n",
       "0  0.0090  0.0032   R  \n",
       "1  0.0052  0.0044   R  \n",
       "2  0.0095  0.0078   R  \n",
       "3  0.0040  0.0117   R  \n",
       "4  0.0107  0.0094   R  \n",
       "\n",
       "[5 rows x 61 columns]"
      ]
     },
     "execution_count": 2,
     "metadata": {},
     "output_type": "execute_result"
    }
   ],
   "source": [
    "'''load my data for processing and analysis'''\n",
    "data = pd.read_csv(\"../input/sonar-data/sonar data.csv\",header=None)\n",
    "data.head() "
   ]
  },
  {
   "cell_type": "markdown",
   "id": "6598e3c3",
   "metadata": {
    "papermill": {
     "duration": 0.019318,
     "end_time": "2021-10-11T18:37:23.081230",
     "exception": false,
     "start_time": "2021-10-11T18:37:23.061912",
     "status": "completed"
    },
    "tags": []
   },
   "source": [
    "*We have catigorical data on y*"
   ]
  },
  {
   "cell_type": "code",
   "execution_count": 3,
   "id": "a5579ac6",
   "metadata": {
    "execution": {
     "iopub.execute_input": "2021-10-11T18:37:23.149771Z",
     "iopub.status.busy": "2021-10-11T18:37:23.149084Z",
     "iopub.status.idle": "2021-10-11T18:37:23.153216Z",
     "shell.execute_reply": "2021-10-11T18:37:23.152564Z",
     "shell.execute_reply.started": "2021-10-11T18:09:08.007118Z"
    },
    "papermill": {
     "duration": 0.052905,
     "end_time": "2021-10-11T18:37:23.153390",
     "exception": false,
     "start_time": "2021-10-11T18:37:23.100485",
     "status": "completed"
    },
    "tags": []
   },
   "outputs": [
    {
     "data": {
      "text/html": [
       "<div>\n",
       "<style scoped>\n",
       "    .dataframe tbody tr th:only-of-type {\n",
       "        vertical-align: middle;\n",
       "    }\n",
       "\n",
       "    .dataframe tbody tr th {\n",
       "        vertical-align: top;\n",
       "    }\n",
       "\n",
       "    .dataframe thead th {\n",
       "        text-align: right;\n",
       "    }\n",
       "</style>\n",
       "<table border=\"1\" class=\"dataframe\">\n",
       "  <thead>\n",
       "    <tr style=\"text-align: right;\">\n",
       "      <th></th>\n",
       "      <th>0</th>\n",
       "      <th>1</th>\n",
       "      <th>2</th>\n",
       "      <th>3</th>\n",
       "      <th>4</th>\n",
       "      <th>5</th>\n",
       "      <th>6</th>\n",
       "      <th>7</th>\n",
       "      <th>8</th>\n",
       "      <th>9</th>\n",
       "      <th>...</th>\n",
       "      <th>51</th>\n",
       "      <th>52</th>\n",
       "      <th>53</th>\n",
       "      <th>54</th>\n",
       "      <th>55</th>\n",
       "      <th>56</th>\n",
       "      <th>57</th>\n",
       "      <th>58</th>\n",
       "      <th>59</th>\n",
       "      <th>60</th>\n",
       "    </tr>\n",
       "  </thead>\n",
       "  <tbody>\n",
       "    <tr>\n",
       "      <th>0</th>\n",
       "      <td>0.0200</td>\n",
       "      <td>0.0371</td>\n",
       "      <td>0.0428</td>\n",
       "      <td>0.0207</td>\n",
       "      <td>0.0954</td>\n",
       "      <td>0.0986</td>\n",
       "      <td>0.1539</td>\n",
       "      <td>0.1601</td>\n",
       "      <td>0.3109</td>\n",
       "      <td>0.2111</td>\n",
       "      <td>...</td>\n",
       "      <td>0.0027</td>\n",
       "      <td>0.0065</td>\n",
       "      <td>0.0159</td>\n",
       "      <td>0.0072</td>\n",
       "      <td>0.0167</td>\n",
       "      <td>0.0180</td>\n",
       "      <td>0.0084</td>\n",
       "      <td>0.0090</td>\n",
       "      <td>0.0032</td>\n",
       "      <td>1</td>\n",
       "    </tr>\n",
       "    <tr>\n",
       "      <th>1</th>\n",
       "      <td>0.0453</td>\n",
       "      <td>0.0523</td>\n",
       "      <td>0.0843</td>\n",
       "      <td>0.0689</td>\n",
       "      <td>0.1183</td>\n",
       "      <td>0.2583</td>\n",
       "      <td>0.2156</td>\n",
       "      <td>0.3481</td>\n",
       "      <td>0.3337</td>\n",
       "      <td>0.2872</td>\n",
       "      <td>...</td>\n",
       "      <td>0.0084</td>\n",
       "      <td>0.0089</td>\n",
       "      <td>0.0048</td>\n",
       "      <td>0.0094</td>\n",
       "      <td>0.0191</td>\n",
       "      <td>0.0140</td>\n",
       "      <td>0.0049</td>\n",
       "      <td>0.0052</td>\n",
       "      <td>0.0044</td>\n",
       "      <td>1</td>\n",
       "    </tr>\n",
       "    <tr>\n",
       "      <th>2</th>\n",
       "      <td>0.0262</td>\n",
       "      <td>0.0582</td>\n",
       "      <td>0.1099</td>\n",
       "      <td>0.1083</td>\n",
       "      <td>0.0974</td>\n",
       "      <td>0.2280</td>\n",
       "      <td>0.2431</td>\n",
       "      <td>0.3771</td>\n",
       "      <td>0.5598</td>\n",
       "      <td>0.6194</td>\n",
       "      <td>...</td>\n",
       "      <td>0.0232</td>\n",
       "      <td>0.0166</td>\n",
       "      <td>0.0095</td>\n",
       "      <td>0.0180</td>\n",
       "      <td>0.0244</td>\n",
       "      <td>0.0316</td>\n",
       "      <td>0.0164</td>\n",
       "      <td>0.0095</td>\n",
       "      <td>0.0078</td>\n",
       "      <td>1</td>\n",
       "    </tr>\n",
       "    <tr>\n",
       "      <th>3</th>\n",
       "      <td>0.0100</td>\n",
       "      <td>0.0171</td>\n",
       "      <td>0.0623</td>\n",
       "      <td>0.0205</td>\n",
       "      <td>0.0205</td>\n",
       "      <td>0.0368</td>\n",
       "      <td>0.1098</td>\n",
       "      <td>0.1276</td>\n",
       "      <td>0.0598</td>\n",
       "      <td>0.1264</td>\n",
       "      <td>...</td>\n",
       "      <td>0.0121</td>\n",
       "      <td>0.0036</td>\n",
       "      <td>0.0150</td>\n",
       "      <td>0.0085</td>\n",
       "      <td>0.0073</td>\n",
       "      <td>0.0050</td>\n",
       "      <td>0.0044</td>\n",
       "      <td>0.0040</td>\n",
       "      <td>0.0117</td>\n",
       "      <td>1</td>\n",
       "    </tr>\n",
       "    <tr>\n",
       "      <th>4</th>\n",
       "      <td>0.0762</td>\n",
       "      <td>0.0666</td>\n",
       "      <td>0.0481</td>\n",
       "      <td>0.0394</td>\n",
       "      <td>0.0590</td>\n",
       "      <td>0.0649</td>\n",
       "      <td>0.1209</td>\n",
       "      <td>0.2467</td>\n",
       "      <td>0.3564</td>\n",
       "      <td>0.4459</td>\n",
       "      <td>...</td>\n",
       "      <td>0.0031</td>\n",
       "      <td>0.0054</td>\n",
       "      <td>0.0105</td>\n",
       "      <td>0.0110</td>\n",
       "      <td>0.0015</td>\n",
       "      <td>0.0072</td>\n",
       "      <td>0.0048</td>\n",
       "      <td>0.0107</td>\n",
       "      <td>0.0094</td>\n",
       "      <td>1</td>\n",
       "    </tr>\n",
       "  </tbody>\n",
       "</table>\n",
       "<p>5 rows × 61 columns</p>\n",
       "</div>"
      ],
      "text/plain": [
       "       0       1       2       3       4       5       6       7       8   \\\n",
       "0  0.0200  0.0371  0.0428  0.0207  0.0954  0.0986  0.1539  0.1601  0.3109   \n",
       "1  0.0453  0.0523  0.0843  0.0689  0.1183  0.2583  0.2156  0.3481  0.3337   \n",
       "2  0.0262  0.0582  0.1099  0.1083  0.0974  0.2280  0.2431  0.3771  0.5598   \n",
       "3  0.0100  0.0171  0.0623  0.0205  0.0205  0.0368  0.1098  0.1276  0.0598   \n",
       "4  0.0762  0.0666  0.0481  0.0394  0.0590  0.0649  0.1209  0.2467  0.3564   \n",
       "\n",
       "       9   ...      51      52      53      54      55      56      57  \\\n",
       "0  0.2111  ...  0.0027  0.0065  0.0159  0.0072  0.0167  0.0180  0.0084   \n",
       "1  0.2872  ...  0.0084  0.0089  0.0048  0.0094  0.0191  0.0140  0.0049   \n",
       "2  0.6194  ...  0.0232  0.0166  0.0095  0.0180  0.0244  0.0316  0.0164   \n",
       "3  0.1264  ...  0.0121  0.0036  0.0150  0.0085  0.0073  0.0050  0.0044   \n",
       "4  0.4459  ...  0.0031  0.0054  0.0105  0.0110  0.0015  0.0072  0.0048   \n",
       "\n",
       "       58      59  60  \n",
       "0  0.0090  0.0032   1  \n",
       "1  0.0052  0.0044   1  \n",
       "2  0.0095  0.0078   1  \n",
       "3  0.0040  0.0117   1  \n",
       "4  0.0107  0.0094   1  \n",
       "\n",
       "[5 rows x 61 columns]"
      ]
     },
     "execution_count": 3,
     "metadata": {},
     "output_type": "execute_result"
    }
   ],
   "source": [
    "encoder = LabelEncoder()\n",
    "data[60] = encoder.fit_transform(data[60])\n",
    "data.head()"
   ]
  },
  {
   "cell_type": "markdown",
   "id": "e69c575f",
   "metadata": {
    "papermill": {
     "duration": 0.018902,
     "end_time": "2021-10-11T18:37:23.192539",
     "exception": false,
     "start_time": "2021-10-11T18:37:23.173637",
     "status": "completed"
    },
    "tags": []
   },
   "source": [
    "*locking for missing values to clean*"
   ]
  },
  {
   "cell_type": "code",
   "execution_count": 4,
   "id": "3a7dc362",
   "metadata": {
    "execution": {
     "iopub.execute_input": "2021-10-11T18:37:23.257306Z",
     "iopub.status.busy": "2021-10-11T18:37:23.256282Z",
     "iopub.status.idle": "2021-10-11T18:37:23.261520Z",
     "shell.execute_reply": "2021-10-11T18:37:23.260771Z",
     "shell.execute_reply.started": "2021-10-11T18:11:18.520805Z"
    },
    "papermill": {
     "duration": 0.049999,
     "end_time": "2021-10-11T18:37:23.261713",
     "exception": false,
     "start_time": "2021-10-11T18:37:23.211714",
     "status": "completed"
    },
    "tags": []
   },
   "outputs": [
    {
     "name": "stdout",
     "output_type": "stream",
     "text": [
      "<class 'pandas.core.frame.DataFrame'>\n",
      "RangeIndex: 208 entries, 0 to 207\n",
      "Data columns (total 61 columns):\n",
      " #   Column  Non-Null Count  Dtype  \n",
      "---  ------  --------------  -----  \n",
      " 0   0       208 non-null    float64\n",
      " 1   1       208 non-null    float64\n",
      " 2   2       208 non-null    float64\n",
      " 3   3       208 non-null    float64\n",
      " 4   4       208 non-null    float64\n",
      " 5   5       208 non-null    float64\n",
      " 6   6       208 non-null    float64\n",
      " 7   7       208 non-null    float64\n",
      " 8   8       208 non-null    float64\n",
      " 9   9       208 non-null    float64\n",
      " 10  10      208 non-null    float64\n",
      " 11  11      208 non-null    float64\n",
      " 12  12      208 non-null    float64\n",
      " 13  13      208 non-null    float64\n",
      " 14  14      208 non-null    float64\n",
      " 15  15      208 non-null    float64\n",
      " 16  16      208 non-null    float64\n",
      " 17  17      208 non-null    float64\n",
      " 18  18      208 non-null    float64\n",
      " 19  19      208 non-null    float64\n",
      " 20  20      208 non-null    float64\n",
      " 21  21      208 non-null    float64\n",
      " 22  22      208 non-null    float64\n",
      " 23  23      208 non-null    float64\n",
      " 24  24      208 non-null    float64\n",
      " 25  25      208 non-null    float64\n",
      " 26  26      208 non-null    float64\n",
      " 27  27      208 non-null    float64\n",
      " 28  28      208 non-null    float64\n",
      " 29  29      208 non-null    float64\n",
      " 30  30      208 non-null    float64\n",
      " 31  31      208 non-null    float64\n",
      " 32  32      208 non-null    float64\n",
      " 33  33      208 non-null    float64\n",
      " 34  34      208 non-null    float64\n",
      " 35  35      208 non-null    float64\n",
      " 36  36      208 non-null    float64\n",
      " 37  37      208 non-null    float64\n",
      " 38  38      208 non-null    float64\n",
      " 39  39      208 non-null    float64\n",
      " 40  40      208 non-null    float64\n",
      " 41  41      208 non-null    float64\n",
      " 42  42      208 non-null    float64\n",
      " 43  43      208 non-null    float64\n",
      " 44  44      208 non-null    float64\n",
      " 45  45      208 non-null    float64\n",
      " 46  46      208 non-null    float64\n",
      " 47  47      208 non-null    float64\n",
      " 48  48      208 non-null    float64\n",
      " 49  49      208 non-null    float64\n",
      " 50  50      208 non-null    float64\n",
      " 51  51      208 non-null    float64\n",
      " 52  52      208 non-null    float64\n",
      " 53  53      208 non-null    float64\n",
      " 54  54      208 non-null    float64\n",
      " 55  55      208 non-null    float64\n",
      " 56  56      208 non-null    float64\n",
      " 57  57      208 non-null    float64\n",
      " 58  58      208 non-null    float64\n",
      " 59  59      208 non-null    float64\n",
      " 60  60      208 non-null    int64  \n",
      "dtypes: float64(60), int64(1)\n",
      "memory usage: 99.2 KB\n"
     ]
    }
   ],
   "source": [
    "data.info()  # so we don't have missing values"
   ]
  },
  {
   "cell_type": "code",
   "execution_count": 5,
   "id": "5b904f59",
   "metadata": {
    "execution": {
     "iopub.execute_input": "2021-10-11T18:37:23.317985Z",
     "iopub.status.busy": "2021-10-11T18:37:23.316988Z",
     "iopub.status.idle": "2021-10-11T18:37:23.463300Z",
     "shell.execute_reply": "2021-10-11T18:37:23.463777Z",
     "shell.execute_reply.started": "2021-10-11T18:11:56.127681Z"
    },
    "papermill": {
     "duration": 0.17949,
     "end_time": "2021-10-11T18:37:23.463955",
     "exception": false,
     "start_time": "2021-10-11T18:37:23.284465",
     "status": "completed"
    },
    "tags": []
   },
   "outputs": [
    {
     "data": {
      "text/html": [
       "<div>\n",
       "<style scoped>\n",
       "    .dataframe tbody tr th:only-of-type {\n",
       "        vertical-align: middle;\n",
       "    }\n",
       "\n",
       "    .dataframe tbody tr th {\n",
       "        vertical-align: top;\n",
       "    }\n",
       "\n",
       "    .dataframe thead th {\n",
       "        text-align: right;\n",
       "    }\n",
       "</style>\n",
       "<table border=\"1\" class=\"dataframe\">\n",
       "  <thead>\n",
       "    <tr style=\"text-align: right;\">\n",
       "      <th></th>\n",
       "      <th>0</th>\n",
       "      <th>1</th>\n",
       "      <th>2</th>\n",
       "      <th>3</th>\n",
       "      <th>4</th>\n",
       "      <th>5</th>\n",
       "      <th>6</th>\n",
       "      <th>7</th>\n",
       "      <th>8</th>\n",
       "      <th>9</th>\n",
       "      <th>...</th>\n",
       "      <th>51</th>\n",
       "      <th>52</th>\n",
       "      <th>53</th>\n",
       "      <th>54</th>\n",
       "      <th>55</th>\n",
       "      <th>56</th>\n",
       "      <th>57</th>\n",
       "      <th>58</th>\n",
       "      <th>59</th>\n",
       "      <th>60</th>\n",
       "    </tr>\n",
       "  </thead>\n",
       "  <tbody>\n",
       "    <tr>\n",
       "      <th>count</th>\n",
       "      <td>208.000000</td>\n",
       "      <td>208.000000</td>\n",
       "      <td>208.000000</td>\n",
       "      <td>208.000000</td>\n",
       "      <td>208.000000</td>\n",
       "      <td>208.000000</td>\n",
       "      <td>208.000000</td>\n",
       "      <td>208.000000</td>\n",
       "      <td>208.000000</td>\n",
       "      <td>208.000000</td>\n",
       "      <td>...</td>\n",
       "      <td>208.000000</td>\n",
       "      <td>208.000000</td>\n",
       "      <td>208.000000</td>\n",
       "      <td>208.000000</td>\n",
       "      <td>208.000000</td>\n",
       "      <td>208.000000</td>\n",
       "      <td>208.000000</td>\n",
       "      <td>208.000000</td>\n",
       "      <td>208.000000</td>\n",
       "      <td>208.000000</td>\n",
       "    </tr>\n",
       "    <tr>\n",
       "      <th>mean</th>\n",
       "      <td>0.029164</td>\n",
       "      <td>0.038437</td>\n",
       "      <td>0.043832</td>\n",
       "      <td>0.053892</td>\n",
       "      <td>0.075202</td>\n",
       "      <td>0.104570</td>\n",
       "      <td>0.121747</td>\n",
       "      <td>0.134799</td>\n",
       "      <td>0.178003</td>\n",
       "      <td>0.208259</td>\n",
       "      <td>...</td>\n",
       "      <td>0.013420</td>\n",
       "      <td>0.010709</td>\n",
       "      <td>0.010941</td>\n",
       "      <td>0.009290</td>\n",
       "      <td>0.008222</td>\n",
       "      <td>0.007820</td>\n",
       "      <td>0.007949</td>\n",
       "      <td>0.007941</td>\n",
       "      <td>0.006507</td>\n",
       "      <td>0.466346</td>\n",
       "    </tr>\n",
       "    <tr>\n",
       "      <th>std</th>\n",
       "      <td>0.022991</td>\n",
       "      <td>0.032960</td>\n",
       "      <td>0.038428</td>\n",
       "      <td>0.046528</td>\n",
       "      <td>0.055552</td>\n",
       "      <td>0.059105</td>\n",
       "      <td>0.061788</td>\n",
       "      <td>0.085152</td>\n",
       "      <td>0.118387</td>\n",
       "      <td>0.134416</td>\n",
       "      <td>...</td>\n",
       "      <td>0.009634</td>\n",
       "      <td>0.007060</td>\n",
       "      <td>0.007301</td>\n",
       "      <td>0.007088</td>\n",
       "      <td>0.005736</td>\n",
       "      <td>0.005785</td>\n",
       "      <td>0.006470</td>\n",
       "      <td>0.006181</td>\n",
       "      <td>0.005031</td>\n",
       "      <td>0.500070</td>\n",
       "    </tr>\n",
       "    <tr>\n",
       "      <th>min</th>\n",
       "      <td>0.001500</td>\n",
       "      <td>0.000600</td>\n",
       "      <td>0.001500</td>\n",
       "      <td>0.005800</td>\n",
       "      <td>0.006700</td>\n",
       "      <td>0.010200</td>\n",
       "      <td>0.003300</td>\n",
       "      <td>0.005500</td>\n",
       "      <td>0.007500</td>\n",
       "      <td>0.011300</td>\n",
       "      <td>...</td>\n",
       "      <td>0.000800</td>\n",
       "      <td>0.000500</td>\n",
       "      <td>0.001000</td>\n",
       "      <td>0.000600</td>\n",
       "      <td>0.000400</td>\n",
       "      <td>0.000300</td>\n",
       "      <td>0.000300</td>\n",
       "      <td>0.000100</td>\n",
       "      <td>0.000600</td>\n",
       "      <td>0.000000</td>\n",
       "    </tr>\n",
       "    <tr>\n",
       "      <th>25%</th>\n",
       "      <td>0.013350</td>\n",
       "      <td>0.016450</td>\n",
       "      <td>0.018950</td>\n",
       "      <td>0.024375</td>\n",
       "      <td>0.038050</td>\n",
       "      <td>0.067025</td>\n",
       "      <td>0.080900</td>\n",
       "      <td>0.080425</td>\n",
       "      <td>0.097025</td>\n",
       "      <td>0.111275</td>\n",
       "      <td>...</td>\n",
       "      <td>0.007275</td>\n",
       "      <td>0.005075</td>\n",
       "      <td>0.005375</td>\n",
       "      <td>0.004150</td>\n",
       "      <td>0.004400</td>\n",
       "      <td>0.003700</td>\n",
       "      <td>0.003600</td>\n",
       "      <td>0.003675</td>\n",
       "      <td>0.003100</td>\n",
       "      <td>0.000000</td>\n",
       "    </tr>\n",
       "    <tr>\n",
       "      <th>50%</th>\n",
       "      <td>0.022800</td>\n",
       "      <td>0.030800</td>\n",
       "      <td>0.034300</td>\n",
       "      <td>0.044050</td>\n",
       "      <td>0.062500</td>\n",
       "      <td>0.092150</td>\n",
       "      <td>0.106950</td>\n",
       "      <td>0.112100</td>\n",
       "      <td>0.152250</td>\n",
       "      <td>0.182400</td>\n",
       "      <td>...</td>\n",
       "      <td>0.011400</td>\n",
       "      <td>0.009550</td>\n",
       "      <td>0.009300</td>\n",
       "      <td>0.007500</td>\n",
       "      <td>0.006850</td>\n",
       "      <td>0.005950</td>\n",
       "      <td>0.005800</td>\n",
       "      <td>0.006400</td>\n",
       "      <td>0.005300</td>\n",
       "      <td>0.000000</td>\n",
       "    </tr>\n",
       "    <tr>\n",
       "      <th>75%</th>\n",
       "      <td>0.035550</td>\n",
       "      <td>0.047950</td>\n",
       "      <td>0.057950</td>\n",
       "      <td>0.064500</td>\n",
       "      <td>0.100275</td>\n",
       "      <td>0.134125</td>\n",
       "      <td>0.154000</td>\n",
       "      <td>0.169600</td>\n",
       "      <td>0.233425</td>\n",
       "      <td>0.268700</td>\n",
       "      <td>...</td>\n",
       "      <td>0.016725</td>\n",
       "      <td>0.014900</td>\n",
       "      <td>0.014500</td>\n",
       "      <td>0.012100</td>\n",
       "      <td>0.010575</td>\n",
       "      <td>0.010425</td>\n",
       "      <td>0.010350</td>\n",
       "      <td>0.010325</td>\n",
       "      <td>0.008525</td>\n",
       "      <td>1.000000</td>\n",
       "    </tr>\n",
       "    <tr>\n",
       "      <th>max</th>\n",
       "      <td>0.137100</td>\n",
       "      <td>0.233900</td>\n",
       "      <td>0.305900</td>\n",
       "      <td>0.426400</td>\n",
       "      <td>0.401000</td>\n",
       "      <td>0.382300</td>\n",
       "      <td>0.372900</td>\n",
       "      <td>0.459000</td>\n",
       "      <td>0.682800</td>\n",
       "      <td>0.710600</td>\n",
       "      <td>...</td>\n",
       "      <td>0.070900</td>\n",
       "      <td>0.039000</td>\n",
       "      <td>0.035200</td>\n",
       "      <td>0.044700</td>\n",
       "      <td>0.039400</td>\n",
       "      <td>0.035500</td>\n",
       "      <td>0.044000</td>\n",
       "      <td>0.036400</td>\n",
       "      <td>0.043900</td>\n",
       "      <td>1.000000</td>\n",
       "    </tr>\n",
       "  </tbody>\n",
       "</table>\n",
       "<p>8 rows × 61 columns</p>\n",
       "</div>"
      ],
      "text/plain": [
       "               0           1           2           3           4           5   \\\n",
       "count  208.000000  208.000000  208.000000  208.000000  208.000000  208.000000   \n",
       "mean     0.029164    0.038437    0.043832    0.053892    0.075202    0.104570   \n",
       "std      0.022991    0.032960    0.038428    0.046528    0.055552    0.059105   \n",
       "min      0.001500    0.000600    0.001500    0.005800    0.006700    0.010200   \n",
       "25%      0.013350    0.016450    0.018950    0.024375    0.038050    0.067025   \n",
       "50%      0.022800    0.030800    0.034300    0.044050    0.062500    0.092150   \n",
       "75%      0.035550    0.047950    0.057950    0.064500    0.100275    0.134125   \n",
       "max      0.137100    0.233900    0.305900    0.426400    0.401000    0.382300   \n",
       "\n",
       "               6           7           8           9   ...          51  \\\n",
       "count  208.000000  208.000000  208.000000  208.000000  ...  208.000000   \n",
       "mean     0.121747    0.134799    0.178003    0.208259  ...    0.013420   \n",
       "std      0.061788    0.085152    0.118387    0.134416  ...    0.009634   \n",
       "min      0.003300    0.005500    0.007500    0.011300  ...    0.000800   \n",
       "25%      0.080900    0.080425    0.097025    0.111275  ...    0.007275   \n",
       "50%      0.106950    0.112100    0.152250    0.182400  ...    0.011400   \n",
       "75%      0.154000    0.169600    0.233425    0.268700  ...    0.016725   \n",
       "max      0.372900    0.459000    0.682800    0.710600  ...    0.070900   \n",
       "\n",
       "               52          53          54          55          56          57  \\\n",
       "count  208.000000  208.000000  208.000000  208.000000  208.000000  208.000000   \n",
       "mean     0.010709    0.010941    0.009290    0.008222    0.007820    0.007949   \n",
       "std      0.007060    0.007301    0.007088    0.005736    0.005785    0.006470   \n",
       "min      0.000500    0.001000    0.000600    0.000400    0.000300    0.000300   \n",
       "25%      0.005075    0.005375    0.004150    0.004400    0.003700    0.003600   \n",
       "50%      0.009550    0.009300    0.007500    0.006850    0.005950    0.005800   \n",
       "75%      0.014900    0.014500    0.012100    0.010575    0.010425    0.010350   \n",
       "max      0.039000    0.035200    0.044700    0.039400    0.035500    0.044000   \n",
       "\n",
       "               58          59          60  \n",
       "count  208.000000  208.000000  208.000000  \n",
       "mean     0.007941    0.006507    0.466346  \n",
       "std      0.006181    0.005031    0.500070  \n",
       "min      0.000100    0.000600    0.000000  \n",
       "25%      0.003675    0.003100    0.000000  \n",
       "50%      0.006400    0.005300    0.000000  \n",
       "75%      0.010325    0.008525    1.000000  \n",
       "max      0.036400    0.043900    1.000000  \n",
       "\n",
       "[8 rows x 61 columns]"
      ]
     },
     "execution_count": 5,
     "metadata": {},
     "output_type": "execute_result"
    }
   ],
   "source": [
    "data.describe()"
   ]
  },
  {
   "cell_type": "code",
   "execution_count": 6,
   "id": "f96903ce",
   "metadata": {
    "execution": {
     "iopub.execute_input": "2021-10-11T18:37:23.513338Z",
     "iopub.status.busy": "2021-10-11T18:37:23.512690Z",
     "iopub.status.idle": "2021-10-11T18:37:23.515170Z",
     "shell.execute_reply": "2021-10-11T18:37:23.515725Z",
     "shell.execute_reply.started": "2021-10-11T18:12:13.846336Z"
    },
    "papermill": {
     "duration": 0.030152,
     "end_time": "2021-10-11T18:37:23.515903",
     "exception": false,
     "start_time": "2021-10-11T18:37:23.485751",
     "status": "completed"
    },
    "tags": []
   },
   "outputs": [
    {
     "data": {
      "text/plain": [
       "0    111\n",
       "1     97\n",
       "Name: 60, dtype: int64"
      ]
     },
     "execution_count": 6,
     "metadata": {},
     "output_type": "execute_result"
    }
   ],
   "source": [
    "data[60].value_counts()"
   ]
  },
  {
   "cell_type": "markdown",
   "id": "2aae9101",
   "metadata": {
    "papermill": {
     "duration": 0.021136,
     "end_time": "2021-10-11T18:37:23.557981",
     "exception": false,
     "start_time": "2021-10-11T18:37:23.536845",
     "status": "completed"
    },
    "tags": []
   },
   "source": [
    "*then correlation coefficients between variables*"
   ]
  },
  {
   "cell_type": "code",
   "execution_count": 7,
   "id": "3f9c6a16",
   "metadata": {
    "execution": {
     "iopub.execute_input": "2021-10-11T18:37:23.603600Z",
     "iopub.status.busy": "2021-10-11T18:37:23.602950Z",
     "iopub.status.idle": "2021-10-11T18:37:23.635254Z",
     "shell.execute_reply": "2021-10-11T18:37:23.635743Z",
     "shell.execute_reply.started": "2021-10-11T18:15:34.659613Z"
    },
    "papermill": {
     "duration": 0.056885,
     "end_time": "2021-10-11T18:37:23.635930",
     "exception": false,
     "start_time": "2021-10-11T18:37:23.579045",
     "status": "completed"
    },
    "tags": []
   },
   "outputs": [
    {
     "data": {
      "text/html": [
       "<div>\n",
       "<style scoped>\n",
       "    .dataframe tbody tr th:only-of-type {\n",
       "        vertical-align: middle;\n",
       "    }\n",
       "\n",
       "    .dataframe tbody tr th {\n",
       "        vertical-align: top;\n",
       "    }\n",
       "\n",
       "    .dataframe thead th {\n",
       "        text-align: right;\n",
       "    }\n",
       "</style>\n",
       "<table border=\"1\" class=\"dataframe\">\n",
       "  <thead>\n",
       "    <tr style=\"text-align: right;\">\n",
       "      <th></th>\n",
       "      <th>0</th>\n",
       "      <th>1</th>\n",
       "      <th>2</th>\n",
       "      <th>3</th>\n",
       "      <th>4</th>\n",
       "      <th>5</th>\n",
       "      <th>6</th>\n",
       "      <th>7</th>\n",
       "      <th>8</th>\n",
       "      <th>9</th>\n",
       "      <th>...</th>\n",
       "      <th>51</th>\n",
       "      <th>52</th>\n",
       "      <th>53</th>\n",
       "      <th>54</th>\n",
       "      <th>55</th>\n",
       "      <th>56</th>\n",
       "      <th>57</th>\n",
       "      <th>58</th>\n",
       "      <th>59</th>\n",
       "      <th>60</th>\n",
       "    </tr>\n",
       "  </thead>\n",
       "  <tbody>\n",
       "    <tr>\n",
       "      <th>0</th>\n",
       "      <td>1.000000</td>\n",
       "      <td>0.735896</td>\n",
       "      <td>0.571537</td>\n",
       "      <td>0.491438</td>\n",
       "      <td>0.344797</td>\n",
       "      <td>0.238921</td>\n",
       "      <td>0.260815</td>\n",
       "      <td>0.355523</td>\n",
       "      <td>0.353420</td>\n",
       "      <td>0.318276</td>\n",
       "      <td>...</td>\n",
       "      <td>0.355299</td>\n",
       "      <td>0.311729</td>\n",
       "      <td>0.322299</td>\n",
       "      <td>0.312067</td>\n",
       "      <td>0.220642</td>\n",
       "      <td>0.313725</td>\n",
       "      <td>0.368132</td>\n",
       "      <td>0.357116</td>\n",
       "      <td>0.347078</td>\n",
       "      <td>-0.271694</td>\n",
       "    </tr>\n",
       "    <tr>\n",
       "      <th>1</th>\n",
       "      <td>0.735896</td>\n",
       "      <td>1.000000</td>\n",
       "      <td>0.779916</td>\n",
       "      <td>0.606684</td>\n",
       "      <td>0.419669</td>\n",
       "      <td>0.332329</td>\n",
       "      <td>0.279040</td>\n",
       "      <td>0.334615</td>\n",
       "      <td>0.316733</td>\n",
       "      <td>0.270782</td>\n",
       "      <td>...</td>\n",
       "      <td>0.434548</td>\n",
       "      <td>0.346076</td>\n",
       "      <td>0.383960</td>\n",
       "      <td>0.380165</td>\n",
       "      <td>0.262263</td>\n",
       "      <td>0.280341</td>\n",
       "      <td>0.353042</td>\n",
       "      <td>0.352200</td>\n",
       "      <td>0.358761</td>\n",
       "      <td>-0.231238</td>\n",
       "    </tr>\n",
       "    <tr>\n",
       "      <th>2</th>\n",
       "      <td>0.571537</td>\n",
       "      <td>0.779916</td>\n",
       "      <td>1.000000</td>\n",
       "      <td>0.781786</td>\n",
       "      <td>0.546141</td>\n",
       "      <td>0.346275</td>\n",
       "      <td>0.190434</td>\n",
       "      <td>0.237884</td>\n",
       "      <td>0.252691</td>\n",
       "      <td>0.219637</td>\n",
       "      <td>...</td>\n",
       "      <td>0.394076</td>\n",
       "      <td>0.332914</td>\n",
       "      <td>0.367186</td>\n",
       "      <td>0.289731</td>\n",
       "      <td>0.287661</td>\n",
       "      <td>0.380819</td>\n",
       "      <td>0.334108</td>\n",
       "      <td>0.425047</td>\n",
       "      <td>0.373948</td>\n",
       "      <td>-0.192195</td>\n",
       "    </tr>\n",
       "    <tr>\n",
       "      <th>3</th>\n",
       "      <td>0.491438</td>\n",
       "      <td>0.606684</td>\n",
       "      <td>0.781786</td>\n",
       "      <td>1.000000</td>\n",
       "      <td>0.726943</td>\n",
       "      <td>0.352805</td>\n",
       "      <td>0.246440</td>\n",
       "      <td>0.246742</td>\n",
       "      <td>0.247078</td>\n",
       "      <td>0.237769</td>\n",
       "      <td>...</td>\n",
       "      <td>0.374651</td>\n",
       "      <td>0.364772</td>\n",
       "      <td>0.334211</td>\n",
       "      <td>0.284955</td>\n",
       "      <td>0.280938</td>\n",
       "      <td>0.340254</td>\n",
       "      <td>0.344865</td>\n",
       "      <td>0.420266</td>\n",
       "      <td>0.400626</td>\n",
       "      <td>-0.250638</td>\n",
       "    </tr>\n",
       "    <tr>\n",
       "      <th>4</th>\n",
       "      <td>0.344797</td>\n",
       "      <td>0.419669</td>\n",
       "      <td>0.546141</td>\n",
       "      <td>0.726943</td>\n",
       "      <td>1.000000</td>\n",
       "      <td>0.597053</td>\n",
       "      <td>0.335422</td>\n",
       "      <td>0.204006</td>\n",
       "      <td>0.177906</td>\n",
       "      <td>0.183219</td>\n",
       "      <td>...</td>\n",
       "      <td>0.266617</td>\n",
       "      <td>0.314985</td>\n",
       "      <td>0.205306</td>\n",
       "      <td>0.196472</td>\n",
       "      <td>0.199323</td>\n",
       "      <td>0.219395</td>\n",
       "      <td>0.238793</td>\n",
       "      <td>0.290982</td>\n",
       "      <td>0.253710</td>\n",
       "      <td>-0.222232</td>\n",
       "    </tr>\n",
       "    <tr>\n",
       "      <th>...</th>\n",
       "      <td>...</td>\n",
       "      <td>...</td>\n",
       "      <td>...</td>\n",
       "      <td>...</td>\n",
       "      <td>...</td>\n",
       "      <td>...</td>\n",
       "      <td>...</td>\n",
       "      <td>...</td>\n",
       "      <td>...</td>\n",
       "      <td>...</td>\n",
       "      <td>...</td>\n",
       "      <td>...</td>\n",
       "      <td>...</td>\n",
       "      <td>...</td>\n",
       "      <td>...</td>\n",
       "      <td>...</td>\n",
       "      <td>...</td>\n",
       "      <td>...</td>\n",
       "      <td>...</td>\n",
       "      <td>...</td>\n",
       "      <td>...</td>\n",
       "    </tr>\n",
       "    <tr>\n",
       "      <th>56</th>\n",
       "      <td>0.313725</td>\n",
       "      <td>0.280341</td>\n",
       "      <td>0.380819</td>\n",
       "      <td>0.340254</td>\n",
       "      <td>0.219395</td>\n",
       "      <td>0.161333</td>\n",
       "      <td>0.186324</td>\n",
       "      <td>0.267212</td>\n",
       "      <td>0.193963</td>\n",
       "      <td>0.140327</td>\n",
       "      <td>...</td>\n",
       "      <td>0.191264</td>\n",
       "      <td>0.308197</td>\n",
       "      <td>0.361443</td>\n",
       "      <td>0.387204</td>\n",
       "      <td>0.515154</td>\n",
       "      <td>1.000000</td>\n",
       "      <td>0.509805</td>\n",
       "      <td>0.431295</td>\n",
       "      <td>0.287219</td>\n",
       "      <td>-0.000933</td>\n",
       "    </tr>\n",
       "    <tr>\n",
       "      <th>57</th>\n",
       "      <td>0.368132</td>\n",
       "      <td>0.353042</td>\n",
       "      <td>0.334108</td>\n",
       "      <td>0.344865</td>\n",
       "      <td>0.238793</td>\n",
       "      <td>0.203986</td>\n",
       "      <td>0.242646</td>\n",
       "      <td>0.287603</td>\n",
       "      <td>0.231745</td>\n",
       "      <td>0.212277</td>\n",
       "      <td>...</td>\n",
       "      <td>0.309673</td>\n",
       "      <td>0.370764</td>\n",
       "      <td>0.404117</td>\n",
       "      <td>0.503465</td>\n",
       "      <td>0.463659</td>\n",
       "      <td>0.509805</td>\n",
       "      <td>1.000000</td>\n",
       "      <td>0.550235</td>\n",
       "      <td>0.329827</td>\n",
       "      <td>-0.184191</td>\n",
       "    </tr>\n",
       "    <tr>\n",
       "      <th>58</th>\n",
       "      <td>0.357116</td>\n",
       "      <td>0.352200</td>\n",
       "      <td>0.425047</td>\n",
       "      <td>0.420266</td>\n",
       "      <td>0.290982</td>\n",
       "      <td>0.220573</td>\n",
       "      <td>0.183578</td>\n",
       "      <td>0.194400</td>\n",
       "      <td>0.097293</td>\n",
       "      <td>0.058273</td>\n",
       "      <td>...</td>\n",
       "      <td>0.298711</td>\n",
       "      <td>0.346095</td>\n",
       "      <td>0.447118</td>\n",
       "      <td>0.453658</td>\n",
       "      <td>0.430804</td>\n",
       "      <td>0.431295</td>\n",
       "      <td>0.550235</td>\n",
       "      <td>1.000000</td>\n",
       "      <td>0.642872</td>\n",
       "      <td>-0.130826</td>\n",
       "    </tr>\n",
       "    <tr>\n",
       "      <th>59</th>\n",
       "      <td>0.347078</td>\n",
       "      <td>0.358761</td>\n",
       "      <td>0.373948</td>\n",
       "      <td>0.400626</td>\n",
       "      <td>0.253710</td>\n",
       "      <td>0.178158</td>\n",
       "      <td>0.222493</td>\n",
       "      <td>0.146216</td>\n",
       "      <td>0.095243</td>\n",
       "      <td>0.097358</td>\n",
       "      <td>...</td>\n",
       "      <td>0.195379</td>\n",
       "      <td>0.280780</td>\n",
       "      <td>0.283471</td>\n",
       "      <td>0.264399</td>\n",
       "      <td>0.349449</td>\n",
       "      <td>0.287219</td>\n",
       "      <td>0.329827</td>\n",
       "      <td>0.642872</td>\n",
       "      <td>1.000000</td>\n",
       "      <td>-0.090055</td>\n",
       "    </tr>\n",
       "    <tr>\n",
       "      <th>60</th>\n",
       "      <td>-0.271694</td>\n",
       "      <td>-0.231238</td>\n",
       "      <td>-0.192195</td>\n",
       "      <td>-0.250638</td>\n",
       "      <td>-0.222232</td>\n",
       "      <td>-0.132327</td>\n",
       "      <td>-0.114748</td>\n",
       "      <td>-0.189314</td>\n",
       "      <td>-0.321448</td>\n",
       "      <td>-0.341142</td>\n",
       "      <td>...</td>\n",
       "      <td>-0.288651</td>\n",
       "      <td>-0.141871</td>\n",
       "      <td>-0.182687</td>\n",
       "      <td>-0.095639</td>\n",
       "      <td>-0.129341</td>\n",
       "      <td>-0.000933</td>\n",
       "      <td>-0.184191</td>\n",
       "      <td>-0.130826</td>\n",
       "      <td>-0.090055</td>\n",
       "      <td>1.000000</td>\n",
       "    </tr>\n",
       "  </tbody>\n",
       "</table>\n",
       "<p>61 rows × 61 columns</p>\n",
       "</div>"
      ],
      "text/plain": [
       "          0         1         2         3         4         5         6   \\\n",
       "0   1.000000  0.735896  0.571537  0.491438  0.344797  0.238921  0.260815   \n",
       "1   0.735896  1.000000  0.779916  0.606684  0.419669  0.332329  0.279040   \n",
       "2   0.571537  0.779916  1.000000  0.781786  0.546141  0.346275  0.190434   \n",
       "3   0.491438  0.606684  0.781786  1.000000  0.726943  0.352805  0.246440   \n",
       "4   0.344797  0.419669  0.546141  0.726943  1.000000  0.597053  0.335422   \n",
       "..       ...       ...       ...       ...       ...       ...       ...   \n",
       "56  0.313725  0.280341  0.380819  0.340254  0.219395  0.161333  0.186324   \n",
       "57  0.368132  0.353042  0.334108  0.344865  0.238793  0.203986  0.242646   \n",
       "58  0.357116  0.352200  0.425047  0.420266  0.290982  0.220573  0.183578   \n",
       "59  0.347078  0.358761  0.373948  0.400626  0.253710  0.178158  0.222493   \n",
       "60 -0.271694 -0.231238 -0.192195 -0.250638 -0.222232 -0.132327 -0.114748   \n",
       "\n",
       "          7         8         9   ...        51        52        53        54  \\\n",
       "0   0.355523  0.353420  0.318276  ...  0.355299  0.311729  0.322299  0.312067   \n",
       "1   0.334615  0.316733  0.270782  ...  0.434548  0.346076  0.383960  0.380165   \n",
       "2   0.237884  0.252691  0.219637  ...  0.394076  0.332914  0.367186  0.289731   \n",
       "3   0.246742  0.247078  0.237769  ...  0.374651  0.364772  0.334211  0.284955   \n",
       "4   0.204006  0.177906  0.183219  ...  0.266617  0.314985  0.205306  0.196472   \n",
       "..       ...       ...       ...  ...       ...       ...       ...       ...   \n",
       "56  0.267212  0.193963  0.140327  ...  0.191264  0.308197  0.361443  0.387204   \n",
       "57  0.287603  0.231745  0.212277  ...  0.309673  0.370764  0.404117  0.503465   \n",
       "58  0.194400  0.097293  0.058273  ...  0.298711  0.346095  0.447118  0.453658   \n",
       "59  0.146216  0.095243  0.097358  ...  0.195379  0.280780  0.283471  0.264399   \n",
       "60 -0.189314 -0.321448 -0.341142  ... -0.288651 -0.141871 -0.182687 -0.095639   \n",
       "\n",
       "          55        56        57        58        59        60  \n",
       "0   0.220642  0.313725  0.368132  0.357116  0.347078 -0.271694  \n",
       "1   0.262263  0.280341  0.353042  0.352200  0.358761 -0.231238  \n",
       "2   0.287661  0.380819  0.334108  0.425047  0.373948 -0.192195  \n",
       "3   0.280938  0.340254  0.344865  0.420266  0.400626 -0.250638  \n",
       "4   0.199323  0.219395  0.238793  0.290982  0.253710 -0.222232  \n",
       "..       ...       ...       ...       ...       ...       ...  \n",
       "56  0.515154  1.000000  0.509805  0.431295  0.287219 -0.000933  \n",
       "57  0.463659  0.509805  1.000000  0.550235  0.329827 -0.184191  \n",
       "58  0.430804  0.431295  0.550235  1.000000  0.642872 -0.130826  \n",
       "59  0.349449  0.287219  0.329827  0.642872  1.000000 -0.090055  \n",
       "60 -0.129341 -0.000933 -0.184191 -0.130826 -0.090055  1.000000  \n",
       "\n",
       "[61 rows x 61 columns]"
      ]
     },
     "execution_count": 7,
     "metadata": {},
     "output_type": "execute_result"
    }
   ],
   "source": [
    "conv = data.corr()\n",
    "conv"
   ]
  },
  {
   "cell_type": "markdown",
   "id": "f4ed957f",
   "metadata": {
    "papermill": {
     "duration": 0.021534,
     "end_time": "2021-10-11T18:37:23.679478",
     "exception": false,
     "start_time": "2021-10-11T18:37:23.657944",
     "status": "completed"
    },
    "tags": []
   },
   "source": [
    "*correlation matrix graph is showing correlation coefficients*"
   ]
  },
  {
   "cell_type": "code",
   "execution_count": 8,
   "id": "e8b7e826",
   "metadata": {
    "execution": {
     "iopub.execute_input": "2021-10-11T18:37:23.726429Z",
     "iopub.status.busy": "2021-10-11T18:37:23.725778Z",
     "iopub.status.idle": "2021-10-11T18:37:24.675811Z",
     "shell.execute_reply": "2021-10-11T18:37:24.676328Z",
     "shell.execute_reply.started": "2021-10-11T18:17:15.634786Z"
    },
    "papermill": {
     "duration": 0.975133,
     "end_time": "2021-10-11T18:37:24.676490",
     "exception": false,
     "start_time": "2021-10-11T18:37:23.701357",
     "status": "completed"
    },
    "tags": []
   },
   "outputs": [
    {
     "data": {
      "text/plain": [
       "<AxesSubplot:>"
      ]
     },
     "execution_count": 8,
     "metadata": {},
     "output_type": "execute_result"
    },
    {
     "data": {
      "image/png": "[encoded data removed]",
      "text/plain": [
       "<Figure size 864x720 with 2 Axes>"
      ]
     },
     "metadata": {
      "needs_background": "light"
     },
     "output_type": "display_data"
    }
   ],
   "source": [
    "f, ax = plt.subplots(figsize=(12, 10)) \n",
    "cmap = sns.diverging_palette(230, 20, as_cmap=True) \n",
    "sns.heatmap(conv, annot=None ,cmap=cmap)"
   ]
  },
  {
   "cell_type": "markdown",
   "id": "28c6875f",
   "metadata": {
    "papermill": {
     "duration": 0.023901,
     "end_time": "2021-10-11T18:37:24.725051",
     "exception": false,
     "start_time": "2021-10-11T18:37:24.701150",
     "status": "completed"
    },
    "tags": []
   },
   "source": [
    "*correlation coefficients density graph*"
   ]
  },
  {
   "cell_type": "code",
   "execution_count": 9,
   "id": "e24014f9",
   "metadata": {
    "execution": {
     "iopub.execute_input": "2021-10-11T18:37:24.778017Z",
     "iopub.status.busy": "2021-10-11T18:37:24.775992Z",
     "iopub.status.idle": "2021-10-11T18:37:31.391871Z",
     "shell.execute_reply": "2021-10-11T18:37:31.391367Z",
     "shell.execute_reply.started": "2021-10-11T18:22:40.309566Z"
    },
    "papermill": {
     "duration": 6.643014,
     "end_time": "2021-10-11T18:37:31.392029",
     "exception": false,
     "start_time": "2021-10-11T18:37:24.749015",
     "status": "completed"
    },
    "tags": []
   },
   "outputs": [
    {
     "data": {
      "image/png": "[encoded data removed]",
      "text/plain": [
       "<Figure size 864x864 with 64 Axes>"
      ]
     },
     "metadata": {
      "needs_background": "light"
     },
     "output_type": "display_data"
    }
   ],
   "source": [
    "conv.hist(sharex=False, sharey=False, xlabelsize=1, ylabelsize=1, figsize=(12,12))\n",
    "plt.show()"
   ]
  },
  {
   "cell_type": "markdown",
   "id": "ef988ded",
   "metadata": {
    "papermill": {
     "duration": 0.024676,
     "end_time": "2021-10-11T18:37:31.442035",
     "exception": false,
     "start_time": "2021-10-11T18:37:31.417359",
     "status": "completed"
    },
    "tags": []
   },
   "source": [
    "*getting max correlation coefficients*"
   ]
  },
  {
   "cell_type": "code",
   "execution_count": 10,
   "id": "1d8e1adb",
   "metadata": {
    "execution": {
     "iopub.execute_input": "2021-10-11T18:37:31.498555Z",
     "iopub.status.busy": "2021-10-11T18:37:31.497701Z",
     "iopub.status.idle": "2021-10-11T18:37:31.506708Z",
     "shell.execute_reply": "2021-10-11T18:37:31.506093Z",
     "shell.execute_reply.started": "2021-10-11T18:21:20.335560Z"
    },
    "papermill": {
     "duration": 0.039974,
     "end_time": "2021-10-11T18:37:31.506858",
     "exception": false,
     "start_time": "2021-10-11T18:37:31.466884",
     "status": "completed"
    },
    "tags": []
   },
   "outputs": [
    {
     "name": "stdout",
     "output_type": "stream",
     "text": [
      "0.4328549236892343\n"
     ]
    }
   ],
   "source": [
    "df = pd.DataFrame(data)\n",
    "c = df.corr().abs()\n",
    "s = c.unstack()\n",
    "y_corr = s[60]\n",
    "del y_corr[60]\n",
    "y_corr\n",
    "print(max(y_corr))"
   ]
  },
  {
   "cell_type": "code",
   "execution_count": 11,
   "id": "542790cc",
   "metadata": {
    "execution": {
     "iopub.execute_input": "2021-10-11T18:37:31.563641Z",
     "iopub.status.busy": "2021-10-11T18:37:31.562655Z",
     "iopub.status.idle": "2021-10-11T18:37:37.124483Z",
     "shell.execute_reply": "2021-10-11T18:37:37.123963Z",
     "shell.execute_reply.started": "2021-10-11T18:23:02.809402Z"
    },
    "papermill": {
     "duration": 5.592602,
     "end_time": "2021-10-11T18:37:37.124631",
     "exception": false,
     "start_time": "2021-10-11T18:37:31.532029",
     "status": "completed"
    },
    "tags": []
   },
   "outputs": [
    {
     "data": {
      "image/png": "[encoded data removed]",
      "text/plain": [
       "<Figure size 864x864 with 64 Axes>"
      ]
     },
     "metadata": {
      "needs_background": "light"
     },
     "output_type": "display_data"
    }
   ],
   "source": [
    "data.plot(kind='density', subplots=True, layout=(8,8), sharex=False, legend=False, fontsize=1, figsize=(12,12))\n",
    "plt.show()"
   ]
  },
  {
   "cell_type": "markdown",
   "id": "b3eb9491",
   "metadata": {
    "papermill": {
     "duration": 0.029248,
     "end_time": "2021-10-11T18:37:37.184937",
     "exception": false,
     "start_time": "2021-10-11T18:37:37.155689",
     "status": "completed"
    },
    "tags": []
   },
   "source": [
    "*split data to tain and test*"
   ]
  },
  {
   "cell_type": "code",
   "execution_count": 12,
   "id": "a1c624ee",
   "metadata": {
    "execution": {
     "iopub.execute_input": "2021-10-11T18:37:37.247691Z",
     "iopub.status.busy": "2021-10-11T18:37:37.247041Z",
     "iopub.status.idle": "2021-10-11T18:37:37.257718Z",
     "shell.execute_reply": "2021-10-11T18:37:37.257108Z",
     "shell.execute_reply.started": "2021-10-11T18:26:25.918860Z"
    },
    "papermill": {
     "duration": 0.04319,
     "end_time": "2021-10-11T18:37:37.257877",
     "exception": false,
     "start_time": "2021-10-11T18:37:37.214687",
     "status": "completed"
    },
    "tags": []
   },
   "outputs": [
    {
     "name": "stderr",
     "output_type": "stream",
     "text": [
      "/opt/conda/lib/python3.7/site-packages/ipykernel_launcher.py:2: FutureWarning: In a future version of pandas all arguments of DataFrame.drop except for the argument 'labels' will be keyword-only\n",
      "  \n"
     ]
    }
   ],
   "source": [
    "''' split the data'''\n",
    "X = data.drop(60 ,1)\n",
    "y = data[60]\n",
    "X_train,X_test,y_train,y_test = train_test_split(X ,y ,test_size = 0.1, random_state=1)"
   ]
  },
  {
   "cell_type": "markdown",
   "id": "c1f5cf03",
   "metadata": {
    "papermill": {
     "duration": 0.031453,
     "end_time": "2021-10-11T18:37:37.319878",
     "exception": false,
     "start_time": "2021-10-11T18:37:37.288425",
     "status": "completed"
    },
    "tags": []
   },
   "source": [
    "**Find out Best Machine Learning Algorithm**"
   ]
  },
  {
   "cell_type": "code",
   "execution_count": 13,
   "id": "f9aec4ec",
   "metadata": {
    "execution": {
     "iopub.execute_input": "2021-10-11T18:37:37.389460Z",
     "iopub.status.busy": "2021-10-11T18:37:37.388676Z",
     "iopub.status.idle": "2021-10-11T18:37:37.704870Z",
     "shell.execute_reply": "2021-10-11T18:37:37.705374Z",
     "shell.execute_reply.started": "2021-10-11T18:34:07.588114Z"
    },
    "papermill": {
     "duration": 0.354241,
     "end_time": "2021-10-11T18:37:37.705548",
     "exception": false,
     "start_time": "2021-10-11T18:37:37.351307",
     "status": "completed"
    },
    "tags": []
   },
   "outputs": [
    {
     "name": "stderr",
     "output_type": "stream",
     "text": [
      "/opt/conda/lib/python3.7/site-packages/sklearn/utils/validation.py:70: FutureWarning: Pass priors=0.0001 as keyword args. From version 0.25 passing these as positional arguments will result in an error\n",
      "  FutureWarning)\n"
     ]
    },
    {
     "name": "stdout",
     "output_type": "stream",
     "text": [
      "1.0\n",
      "0.8095238095238095\n",
      "AxesSubplot(0.125,0.125;0.62x0.755)\n"
     ]
    },
    {
     "data": {
      "image/png": "[encoded data removed]",
      "text/plain": [
       "<Figure size 432x288 with 2 Axes>"
      ]
     },
     "metadata": {
      "needs_background": "light"
     },
     "output_type": "display_data"
    }
   ],
   "source": [
    "'''QDA_model'''\n",
    "model_QDA = QuadraticDiscriminantAnalysis(0.0001)\n",
    "model_QDA.fit(X_train, y_train)\n",
    "        \n",
    "y_train_pred = model_QDA.predict(X_train)\n",
    "train_accurcy = accuracy_score(y_train_pred,y_train)\n",
    "print(train_accurcy)\n",
    "   \n",
    "y_test_pred = model_QDA.predict(X_test)\n",
    "test_accurcy = accuracy_score(y_test_pred,y_test)\n",
    "print(test_accurcy)\n",
    "                                   \n",
    "con = confusion_matrix(y_test,y_test_pred)\n",
    "hmap = sns.heatmap(con,annot=True,fmt=\"d\")\n",
    "print(hmap)\n"
   ]
  },
  {
   "cell_type": "code",
   "execution_count": 14,
   "id": "2373da15",
   "metadata": {
    "execution": {
     "iopub.execute_input": "2021-10-11T18:37:37.779857Z",
     "iopub.status.busy": "2021-10-11T18:37:37.778812Z",
     "iopub.status.idle": "2021-10-11T18:37:38.268601Z",
     "shell.execute_reply": "2021-10-11T18:37:38.268099Z",
     "shell.execute_reply.started": "2021-10-11T18:34:46.451789Z"
    },
    "papermill": {
     "duration": 0.531181,
     "end_time": "2021-10-11T18:37:38.268739",
     "exception": false,
     "start_time": "2021-10-11T18:37:37.737558",
     "status": "completed"
    },
    "tags": []
   },
   "outputs": [
    {
     "name": "stdout",
     "output_type": "stream",
     "text": [
      "0.8556149732620321\n",
      "0.7142857142857143\n",
      "AxesSubplot(0.125,0.125;0.62x0.755)\n"
     ]
    },
    {
     "data": {
      "image/png": "[encoded data removed]",
      "text/plain": [
       "<Figure size 432x288 with 2 Axes>"
      ]
     },
     "metadata": {
      "needs_background": "light"
     },
     "output_type": "display_data"
    }
   ],
   "source": [
    "'''Logistic_Regression_model'''\n",
    "logistic_model = LogisticRegression(penalty='l2',solver='lbfgs',C=1.0,random_state=1)\n",
    "logistic_model.fit(X_train, y_train)\n",
    "        \n",
    "y_train_pred = logistic_model.predict(X_train)\n",
    "train_accurcy = accuracy_score(y_train_pred,y_train)\n",
    "print(train_accurcy)\n",
    "\n",
    "y_test_pred = logistic_model.predict(X_test)\n",
    "test_accurcy = accuracy_score(y_test_pred,y_test)\n",
    "print(test_accurcy)\n",
    "    \n",
    "con = confusion_matrix(y_test,y_test_pred)\n",
    "hmap =sns.heatmap(con,annot=True,fmt=\"d\")\n",
    "print(hmap)"
   ]
  },
  {
   "cell_type": "code",
   "execution_count": 15,
   "id": "b0daf619",
   "metadata": {
    "execution": {
     "iopub.execute_input": "2021-10-11T18:37:38.344248Z",
     "iopub.status.busy": "2021-10-11T18:37:38.343350Z",
     "iopub.status.idle": "2021-10-11T18:37:38.561538Z",
     "shell.execute_reply": "2021-10-11T18:37:38.562370Z",
     "shell.execute_reply.started": "2021-10-11T18:35:11.196125Z"
    },
    "papermill": {
     "duration": 0.261253,
     "end_time": "2021-10-11T18:37:38.562626",
     "exception": false,
     "start_time": "2021-10-11T18:37:38.301373",
     "status": "completed"
    },
    "tags": []
   },
   "outputs": [
    {
     "name": "stdout",
     "output_type": "stream",
     "text": [
      "0.8983957219251337\n",
      "0.8095238095238095\n",
      "AxesSubplot(0.125,0.125;0.62x0.755)\n"
     ]
    },
    {
     "data": {
      "image/png": "[encoded data removed]",
      "text/plain": [
       "<Figure size 432x288 with 2 Axes>"
      ]
     },
     "metadata": {
      "needs_background": "light"
     },
     "output_type": "display_data"
    }
   ],
   "source": [
    "''''SVC_model'''\n",
    "SVC_model = SVC()\n",
    "SVC_model.fit(X_train, y_train)\n",
    "\n",
    "y_train_pred = SVC_model.predict(X_train)\n",
    "train_accurcy = accuracy_score(y_train_pred,y_train)\n",
    "print(train_accurcy)\n",
    "    \n",
    "y_test_pred = SVC_model.predict(X_test)\n",
    "test_accurcy = accuracy_score(y_test_pred,y_test)\n",
    "print(test_accurcy)\n",
    "        \n",
    "con = confusion_matrix(y_test,y_test_pred)\n",
    "hmap =sns.heatmap(con,annot=True,fmt=\"d\")\n",
    "print(hmap)"
   ]
  },
  {
   "cell_type": "code",
   "execution_count": 16,
   "id": "efd2ada4",
   "metadata": {
    "execution": {
     "iopub.execute_input": "2021-10-11T18:37:38.633874Z",
     "iopub.status.busy": "2021-10-11T18:37:38.633214Z",
     "iopub.status.idle": "2021-10-11T18:37:38.943839Z",
     "shell.execute_reply": "2021-10-11T18:37:38.943263Z",
     "shell.execute_reply.started": "2021-10-11T18:35:29.210232Z"
    },
    "papermill": {
     "duration": 0.347524,
     "end_time": "2021-10-11T18:37:38.943989",
     "exception": false,
     "start_time": "2021-10-11T18:37:38.596465",
     "status": "completed"
    },
    "tags": []
   },
   "outputs": [
    {
     "name": "stdout",
     "output_type": "stream",
     "text": [
      "1.0\n",
      "0.8571428571428571\n",
      "AxesSubplot(0.125,0.125;0.62x0.755)\n"
     ]
    },
    {
     "data": {
      "image/png": "[encoded data removed]",
      "text/plain": [
       "<Figure size 432x288 with 2 Axes>"
      ]
     },
     "metadata": {
      "needs_background": "light"
     },
     "output_type": "display_data"
    }
   ],
   "source": [
    "'''Random_Forest_model'''\n",
    "forest_model = RandomForestClassifier(n_estimators = 50,max_depth=5)\n",
    "forest_model.fit(X_train, y_train)\n",
    "\n",
    "y_train_pred = forest_model.predict(X_train)\n",
    "train_accurcy = accuracy_score(y_train_pred,y_train)\n",
    "print(train_accurcy)\n",
    "\n",
    "y_test_pred = forest_model.predict(X_test)\n",
    "test_accurcy = accuracy_score(y_test_pred,y_test)\n",
    "print(test_accurcy)\n",
    "    \n",
    "con = confusion_matrix(y_test,y_test_pred)\n",
    "hmap =sns.heatmap(con,annot=True,fmt=\"d\")\n",
    "print(hmap)"
   ]
  },
  {
   "cell_type": "code",
   "execution_count": null,
   "id": "6ec88c89",
   "metadata": {
    "papermill": {
     "duration": 0.034624,
     "end_time": "2021-10-11T18:37:39.013714",
     "exception": false,
     "start_time": "2021-10-11T18:37:38.979090",
     "status": "completed"
    },
    "tags": []
   },
   "outputs": [],
   "source": []
  }
 ],
 "metadata": {
  "kernelspec": {
   "display_name": "Python 3",
   "language": "python",
   "name": "python3"
  },
  "language_info": {
   "codemirror_mode": {
    "name": "ipython",
    "version": 3
   },
   "file_extension": ".py",
   "mimetype": "text/x-python",
   "name": "python",
   "nbconvert_exporter": "python",
   "pygments_lexer": "ipython3",
   "version": "3.7.10"
  },
  "papermill": {
   "default_parameters": {},
   "duration": 26.765705,
   "end_time": "2021-10-11T18:37:40.563260",
   "environment_variables": {},
   "exception": null,
   "input_path": "__notebook__.ipynb",
   "output_path": "__notebook__.ipynb",
   "parameters": {},
   "start_time": "2021-10-11T18:37:13.797555",
   "version": "2.3.3"
  }
 },
 "nbformat": 4,
 "nbformat_minor": 5
}
